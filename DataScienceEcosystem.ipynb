{
 "cells": [
  {
   "cell_type": "markdown",
   "id": "adee9e70-eacd-483e-ba0e-d29a5884aba2",
   "metadata": {},
   "source": [
    "# Data Science Tools and Ecosystem"
   ]
  },
  {
   "cell_type": "markdown",
   "id": "d8cf4513-ff9f-44cc-b79d-82ec0ecfe1f3",
   "metadata": {},
   "source": [
    "## In this notebook, Data Science Tools and Ecosystem are summarised."
   ]
  },
  {
   "cell_type": "markdown",
   "id": "6282a301-fb16-401a-ba1e-ad64a2a9f714",
   "metadata": {},
   "source": [
    "## **Objectives:**\n",
    "- Create an ordered list of popular coding languages used by data scientists.\n",
    "- Create an ordered list of commonly used libraries.\n",
    "- Create a table of data science tools.\n",
    "- Perform basic arithmetic in Python.\n",
    "- Add comments to code performing basic arithemtic in Python."
   ]
  },
  {
   "cell_type": "markdown",
   "id": "89bb5fe1-495d-422a-a799-884fbdc6d86f",
   "metadata": {},
   "source": [
    "### Some of the popular coding languages used by Data Scientists are:\n",
    "1. Python\n",
    "2. R\n",
    "3. SQL"
   ]
  },
  {
   "cell_type": "markdown",
   "id": "bbf890cc-c911-4841-8cf6-b77ee572b726",
   "metadata": {},
   "source": [
    "### Some of the commonly used libraries are:\n",
    "1. Pandas\n",
    "2. Numpy\n",
    "3. Matplotlib"
   ]
  },
  {
   "cell_type": "markdown",
   "id": "73dddf4b-1bd5-404f-883c-7c5746eb8ba3",
   "metadata": {},
   "source": [
    "|Data Science Tools|\n",
    "|:---:             |\n",
    "|Hadoop            |\n",
    "|Spark             |\n",
    "|Jupyter Notebooks |\n"
   ]
  },
  {
   "cell_type": "markdown",
   "id": "ce492cb8-15f1-465e-9b26-a46180fe1781",
   "metadata": {},
   "source": [
    "### Below are some examples of evaluating arithmetic expressions in Python."
   ]
  },
  {
   "cell_type": "code",
   "execution_count": 17,
   "id": "b607ed79-0bc2-4443-88fb-d3ac44f265e7",
   "metadata": {},
   "outputs": [
    {
     "data": {
      "text/plain": [
       "17"
      ]
     },
     "execution_count": 17,
     "metadata": {},
     "output_type": "execute_result"
    }
   ],
   "source": [
    "# This is a simple arithmetic expressions to multiply then add integers.\n",
    "(3*4) + 5"
   ]
  },
  {
   "cell_type": "code",
   "execution_count": 19,
   "id": "15357819-a80e-46be-acc0-ea2fff098134",
   "metadata": {},
   "outputs": [
    {
     "data": {
      "text/plain": [
       "3.3333333333333335"
      ]
     },
     "execution_count": 19,
     "metadata": {},
     "output_type": "execute_result"
    }
   ],
   "source": [
    "# This code will convert 200 minutes into hours using division.\n",
    "200/60"
   ]
  },
  {
   "cell_type": "markdown",
   "id": "380d0ec4-c768-4d72-af2e-70440d70f7e7",
   "metadata": {},
   "source": [
    "## Author\n",
    "Katie Kearns"
   ]
  },
  {
   "cell_type": "code",
   "execution_count": null,
   "id": "f8cedaa2-1e86-4bc4-b168-65f72a3b5a7a",
   "metadata": {},
   "outputs": [],
   "source": []
  }
 ],
 "metadata": {
  "kernelspec": {
   "display_name": "Python [conda env:Coursera_test]",
   "language": "python",
   "name": "conda-env-Coursera_test-py"
  },
  "language_info": {
   "codemirror_mode": {
    "name": "ipython",
    "version": 3
   },
   "file_extension": ".py",
   "mimetype": "text/x-python",
   "name": "python",
   "nbconvert_exporter": "python",
   "pygments_lexer": "ipython3",
   "version": "3.12.8"
  }
 },
 "nbformat": 4,
 "nbformat_minor": 5
}
